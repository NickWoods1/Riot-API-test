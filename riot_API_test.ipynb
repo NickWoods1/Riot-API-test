{
 "cells": [
  {
   "cell_type": "code",
   "execution_count": 30,
   "metadata": {},
   "outputs": [],
   "source": [
    "from webbrowser import get\n",
    "import numpy as np\n",
    "import requests\n",
    "import json\n",
    "import pandas as pd\n",
    "\n",
    "# https://developer.riotgames.com/docs/lol -- intro\n",
    "# https://developer.riotgames.com/apis#league-v4/GET_getLeagueEntriesForSummoner -- docs\n",
    "# https://riot-api-libraries.readthedocs.io/en/latest/libraries.html#python -- helpers/packages that use API"
   ]
  },
  {
   "cell_type": "code",
   "execution_count": 85,
   "metadata": {},
   "outputs": [],
   "source": [
    "# Day-long API key...\n",
    "API_KEY = '???' \n",
    "\n",
    "# URL requests\n",
    "url_summoner_info = 'https://euw1.api.riotgames.com/lol/league/v4/entries/by-summoner/6FxO5zf-6HmVrzcl6j38bAEXASkv51nUOVfaHTeb9XHHGF0'\n",
    "url_match_ids = 'https://europe.api.riotgames.com/lol/match/v5/matches/by-puuid/U1I7G1e8NOl94cJ1Etg42k3oVvq5R9ns8S89xzu_MAcVkhmOfXMb2VkEIloAZIiyggc3N0AIYDzaIg/ids?type=ranked&start=0&count=20'\n",
    "url_match_info = 'https://europe.api.riotgames.com/lol/match/v5/matches/EUW1_5800909241'"
   ]
  },
  {
   "cell_type": "code",
   "execution_count": 86,
   "metadata": {},
   "outputs": [
    {
     "data": {
      "text/plain": [
       "['EUW1_5800909241',\n",
       " 'EUW1_5800893764',\n",
       " 'EUW1_5800807176',\n",
       " 'EUW1_5793693403',\n",
       " 'EUW1_5793559566',\n",
       " 'EUW1_5793592801',\n",
       " 'EUW1_5793458541',\n",
       " 'EUW1_5793511013',\n",
       " 'EUW1_5793425710',\n",
       " 'EUW1_5793289808',\n",
       " 'EUW1_5790913368',\n",
       " 'EUW1_5790816826',\n",
       " 'EUW1_5790741661',\n",
       " 'EUW1_5790724616',\n",
       " 'EUW1_5780804039',\n",
       " 'EUW1_5780687455',\n",
       " 'EUW1_5780599575',\n",
       " 'EUW1_5780585146',\n",
       " 'EUW1_5780397199',\n",
       " 'EUW1_5780362173']"
      ]
     },
     "execution_count": 86,
     "metadata": {},
     "output_type": "execute_result"
    }
   ],
   "source": [
    "# Get last 20 ranked solo matches from NickTSMITW account\n",
    "match_ids = requests.get(url_match_ids, headers={\"X-Riot-Token\": API_KEY})\n",
    "match_ids.json()"
   ]
  },
  {
   "cell_type": "code",
   "execution_count": 89,
   "metadata": {},
   "outputs": [],
   "source": [
    "# Take first match and get its info\n",
    "url_match_info = f'https://europe.api.riotgames.com/lol/match/v5/matches/{match_ids.json()[0]}'\n",
    "match_info = requests.get(url_match_info, headers={\"X-Riot-Token\": API_KEY})"
   ]
  },
  {
   "cell_type": "code",
   "execution_count": 90,
   "metadata": {},
   "outputs": [],
   "source": [
    "# Save match info to match_data.json\n",
    "with open('match_data.json', 'w') as match:\n",
    "\tmatch.write(json.dumps(match_info.json(), indent = 4))"
   ]
  },
  {
   "cell_type": "code",
   "execution_count": 31,
   "metadata": {},
   "outputs": [],
   "source": [
    "# Read match info into pandas series\n",
    "data = pd.read_json('match_data.json', typ='series')"
   ]
  },
  {
   "cell_type": "code",
   "execution_count": 91,
   "metadata": {},
   "outputs": [],
   "source": [
    "N_players, players = 10, []\n",
    "for i in range(N_players):\n",
    "\n",
    "    # Get player ID from match\n",
    "    id = data[1]['participants'][i]['puuid']\n",
    "\n",
    "    # URL to request player name from ID\n",
    "    url_player_from_id = f'https://europe.api.riotgames.com/riot/account/v1/accounts/by-puuid/{id}'\n",
    "    acc_info = requests.get(url_player_from_id, headers={\"X-Riot-Token\": API_KEY})\n",
    "\n",
    "    # Append player name to players list\n",
    "    players.append(pd.Series(acc_info.json())[1])"
   ]
  },
  {
   "cell_type": "code",
   "execution_count": 92,
   "metadata": {},
   "outputs": [
    {
     "data": {
      "text/plain": [
       "['Goosey',\n",
       " 'rudiop',\n",
       " 'NickTSMITW',\n",
       " 'IIIIlIlIIl',\n",
       " 'SUPPORT VIBE',\n",
       " 'Muchiro Tokito',\n",
       " 'Mirshýte',\n",
       " 'Téfal',\n",
       " 'Sad Stolas',\n",
       " 'Gladexo']"
      ]
     },
     "execution_count": 92,
     "metadata": {},
     "output_type": "execute_result"
    }
   ],
   "source": [
    "# Players in game\n",
    "players"
   ]
  },
  {
   "cell_type": "code",
   "execution_count": null,
   "metadata": {},
   "outputs": [],
   "source": []
  }
 ],
 "metadata": {
  "interpreter": {
   "hash": "39eef1abee189e0c4ff0251cb9b75cb39007e65ddaa1128c1943d232e83ef53c"
  },
  "kernelspec": {
   "display_name": "Python 3.10.0 64-bit",
   "language": "python",
   "name": "python3"
  },
  "language_info": {
   "codemirror_mode": {
    "name": "ipython",
    "version": 3
   },
   "file_extension": ".py",
   "mimetype": "text/x-python",
   "name": "python",
   "nbconvert_exporter": "python",
   "pygments_lexer": "ipython3",
   "version": "3.10.0"
  },
  "orig_nbformat": 4
 },
 "nbformat": 4,
 "nbformat_minor": 2
}
