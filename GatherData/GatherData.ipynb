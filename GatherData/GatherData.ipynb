{
 "cells": [
  {
   "cell_type": "code",
   "execution_count": 1,
   "metadata": {},
   "outputs": [],
   "source": [
    "import numpy as np\n",
    "import requests\n",
    "import json\n",
    "import pandas as pd\n",
    "import time\n",
    "from webbrowser import get\n",
    "\n",
    "# https://developer.riotgames.com/docs/lol -- intro\n",
    "# https://developer.riotgames.com/apis#league-v4/GET_getLeagueEntriesForSummoner -- docs\n",
    "# https://riot-api-libraries.readthedocs.io/en/latest/libraries.html#python -- helpers/packages that use API"
   ]
  },
  {
   "cell_type": "code",
   "execution_count": 9,
   "metadata": {},
   "outputs": [],
   "source": [
    "# Get API key\n",
    "with open('../../API_KEY.txt') as f:\n",
    "    apiKey = f.readline()"
   ]
  },
  {
   "cell_type": "markdown",
   "metadata": {},
   "source": [
    "# Match IDs"
   ]
  },
  {
   "cell_type": "code",
   "execution_count": 3,
   "metadata": {},
   "outputs": [],
   "source": [
    "# Get last N soloq ranked games of a player (puuid)\n",
    "puuid = 'U1I7G1e8NOl94cJ1Etg42k3oVvq5R9ns8S89xzu_MAcVkhmOfXMb2VkEIloAZIiyggc3N0AIYDzaIg'\n",
    "lastNGames = 20\n",
    "urlMatchIds = f'https://europe.api.riotgames.com/lol/match/v5/matches/by-puuid/{puuid}/ids?type=ranked&start=0&count={lastNGames}'\n",
    "matches = requests.get(urlMatchIds, headers={\"X-Riot-Token\": apiKey})\n",
    "\n",
    "# Save to dict\n",
    "matchIds = {'Match ID': matches.json(), 'Player': [puuid for _ in matches.json()]}"
   ]
  },
  {
   "cell_type": "code",
   "execution_count": 15,
   "metadata": {},
   "outputs": [],
   "source": [
    "# Load database of match IDs\n",
    "matchIdsDatabase = pd.read_csv('matchIds.csv',  index_col=[0])\n",
    "\n",
    "# Check if match is in the database, if not add it\n",
    "#[matchIdsDatabase.append({'Match ID': match, 'Player': puuid}) for match in matchIds['Match ID'] if match not in matchIdsDatabase.values]"
   ]
  },
  {
   "cell_type": "markdown",
   "metadata": {},
   "source": [
    "# Retrieve following information from each match: players, champions, and masteries"
   ]
  },
  {
   "cell_type": "code",
   "execution_count": 123,
   "metadata": {},
   "outputs": [],
   "source": [
    "# Get information on match 0\n",
    "urlMatchInfo = f'https://europe.api.riotgames.com/lol/match/v5/matches/{matchIdsDatabase[\"Match ID\"][0]}'\n",
    "matchInfo = pd.Series(requests.get(urlMatchInfo, headers={\"X-Riot-Token\": apiKey}).json())"
   ]
  },
  {
   "cell_type": "code",
   "execution_count": 124,
   "metadata": {},
   "outputs": [],
   "source": [
    "# Gather PUUIDs of players in the match\n",
    "teamOnePUUID, teamTwoPUUID = [], []\n",
    "for i in range(5):\n",
    "    teamOnePUUID.append(matchInfo[1]['participants'][i]['puuid'])\n",
    "    teamTwoPUUID.append(matchInfo[1]['participants'][i+5]['puuid'])"
   ]
  },
  {
   "cell_type": "code",
   "execution_count": 95,
   "metadata": {},
   "outputs": [],
   "source": [
    "# Gather summoner ids of players in the match\n",
    "teamOneSummId, teamTwoSummId = [], []\n",
    "for i in range(5):\n",
    "    teamOneSummId.append(matchInfo[1]['participants'][i]['summonerId'])\n",
    "    teamTwoSummId.append(matchInfo[1]['participants'][i+5]['summonerId'])"
   ]
  },
  {
   "cell_type": "code",
   "execution_count": 73,
   "metadata": {},
   "outputs": [],
   "source": [
    "# Gather champions played in the match\n",
    "teamOneChamps, teamTwoChamps = [], []\n",
    "for i in range(5):\n",
    "    teamOneChamps.append(matchInfo[1]['participants'][i]['championId'])\n",
    "    teamTwoChamps.append(matchInfo[1]['participants'][i+5]['championId'])"
   ]
  },
  {
   "cell_type": "code",
   "execution_count": 104,
   "metadata": {},
   "outputs": [],
   "source": [
    "# Gather mastery scores for each player/champion in the match\n",
    "teamOneMasteries, teamTwoMasteries = [], []\n",
    "\n",
    "for i, champion in enumerate(teamOneChamps):\n",
    "    urlChampionMastery = f'https://euw1.api.riotgames.com/lol/champion-mastery/v4/champion-masteries/by-summoner/{teamOneSummId[i]}/by-champion/{champion}'\n",
    "    masteryPoints = pd.Series(requests.get(urlChampionMastery, headers={\"X-Riot-Token\": apiKey}).json())\n",
    "    teamOneMasteries.append(masteryPoints['championPoints'])\n",
    "\n",
    "for i, champion in enumerate(teamTwoChamps):\n",
    "    urlChampionMastery = f'https://euw1.api.riotgames.com/lol/champion-mastery/v4/champion-masteries/by-summoner/{teamTwoSummId[i]}/by-champion/{champion}'\n",
    "    masteryPoints = pd.Series(requests.get(urlChampionMastery, headers={\"X-Riot-Token\": apiKey}).json())\n",
    "    teamTwoMasteries.append(masteryPoints['championPoints'])"
   ]
  },
  {
   "cell_type": "code",
   "execution_count": 110,
   "metadata": {},
   "outputs": [],
   "source": [
    "# Collect into dict\n",
    "data = {'Match ID': 'match1',\n",
    "        'Team One PUUID': teamOnePUUID, 'Team Two PUUID': teamTwoPUUID,\n",
    "        'Team One Champions': teamOneChamps, 'Team Two Champions': teamTwoChamps,\n",
    "        'Team One Masteries': teamOneMasteries, 'Team Two Masteries': teamTwoMasteries}"
   ]
  },
  {
   "cell_type": "code",
   "execution_count": 126,
   "metadata": {},
   "outputs": [],
   "source": [
    "# Dict w/ champion ids\n",
    "with open('champion_ids.txt') as champ_ids:\n",
    "    champs = {}\n",
    "    for i, line in enumerate(champ_ids):\n",
    "        for j, char in enumerate(line):\n",
    "            if char == ':':\n",
    "                champs[f'{line[j+1:]}'.strip()] = int(line[:j])"
   ]
  },
  {
   "cell_type": "code",
   "execution_count": null,
   "metadata": {},
   "outputs": [],
   "source": []
  }
 ],
 "metadata": {
  "interpreter": {
   "hash": "39eef1abee189e0c4ff0251cb9b75cb39007e65ddaa1128c1943d232e83ef53c"
  },
  "kernelspec": {
   "display_name": "Python 3.10.0 64-bit",
   "language": "python",
   "name": "python3"
  },
  "language_info": {
   "codemirror_mode": {
    "name": "ipython",
    "version": 3
   },
   "file_extension": ".py",
   "mimetype": "text/x-python",
   "name": "python",
   "nbconvert_exporter": "python",
   "pygments_lexer": "ipython3",
   "version": "3.10.0"
  },
  "orig_nbformat": 4
 },
 "nbformat": 4,
 "nbformat_minor": 2
}
